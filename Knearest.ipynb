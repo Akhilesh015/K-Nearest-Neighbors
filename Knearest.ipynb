{
 "cells": [
  {
   "cell_type": "code",
   "execution_count": 1,
   "metadata": {},
   "outputs": [],
   "source": [
    "import numpy as np"
   ]
  },
  {
   "cell_type": "code",
   "execution_count": 2,
   "metadata": {},
   "outputs": [],
   "source": [
    "import pandas as pd\n",
    "\n"
   ]
  },
  {
   "cell_type": "code",
   "execution_count": 3,
   "metadata": {},
   "outputs": [],
   "source": [
    "data=pd.read_csv(\"weka.csv\")"
   ]
  },
  {
   "cell_type": "code",
   "execution_count": 4,
   "metadata": {},
   "outputs": [
    {
     "data": {
      "text/html": [
       "<div>\n",
       "<style scoped>\n",
       "    .dataframe tbody tr th:only-of-type {\n",
       "        vertical-align: middle;\n",
       "    }\n",
       "\n",
       "    .dataframe tbody tr th {\n",
       "        vertical-align: top;\n",
       "    }\n",
       "\n",
       "    .dataframe thead th {\n",
       "        text-align: right;\n",
       "    }\n",
       "</style>\n",
       "<table border=\"1\" class=\"dataframe\">\n",
       "  <thead>\n",
       "    <tr style=\"text-align: right;\">\n",
       "      <th></th>\n",
       "      <th>pelvic_incidence</th>\n",
       "      <th>pelvic_tilt numeric</th>\n",
       "      <th>lumbar_lordosis_angle</th>\n",
       "      <th>sacral_slope</th>\n",
       "      <th>pelvic_radius</th>\n",
       "      <th>degree_spondylolisthesis</th>\n",
       "      <th>class</th>\n",
       "    </tr>\n",
       "  </thead>\n",
       "  <tbody>\n",
       "    <tr>\n",
       "      <td>0</td>\n",
       "      <td>63.027818</td>\n",
       "      <td>22.552586</td>\n",
       "      <td>39.609117</td>\n",
       "      <td>40.475232</td>\n",
       "      <td>98.672917</td>\n",
       "      <td>-0.254400</td>\n",
       "      <td>Abnormal</td>\n",
       "    </tr>\n",
       "    <tr>\n",
       "      <td>1</td>\n",
       "      <td>39.056951</td>\n",
       "      <td>10.060991</td>\n",
       "      <td>25.015378</td>\n",
       "      <td>28.995960</td>\n",
       "      <td>114.405425</td>\n",
       "      <td>4.564259</td>\n",
       "      <td>Abnormal</td>\n",
       "    </tr>\n",
       "    <tr>\n",
       "      <td>2</td>\n",
       "      <td>68.832021</td>\n",
       "      <td>22.218482</td>\n",
       "      <td>50.092194</td>\n",
       "      <td>46.613539</td>\n",
       "      <td>105.985135</td>\n",
       "      <td>-3.530317</td>\n",
       "      <td>Abnormal</td>\n",
       "    </tr>\n",
       "    <tr>\n",
       "      <td>3</td>\n",
       "      <td>69.297008</td>\n",
       "      <td>24.652878</td>\n",
       "      <td>44.311238</td>\n",
       "      <td>44.644130</td>\n",
       "      <td>101.868495</td>\n",
       "      <td>11.211523</td>\n",
       "      <td>Abnormal</td>\n",
       "    </tr>\n",
       "    <tr>\n",
       "      <td>4</td>\n",
       "      <td>49.712859</td>\n",
       "      <td>9.652075</td>\n",
       "      <td>28.317406</td>\n",
       "      <td>40.060784</td>\n",
       "      <td>108.168725</td>\n",
       "      <td>7.918501</td>\n",
       "      <td>Abnormal</td>\n",
       "    </tr>\n",
       "  </tbody>\n",
       "</table>\n",
       "</div>"
      ],
      "text/plain": [
       "   pelvic_incidence  pelvic_tilt numeric  lumbar_lordosis_angle  sacral_slope  \\\n",
       "0         63.027818            22.552586              39.609117     40.475232   \n",
       "1         39.056951            10.060991              25.015378     28.995960   \n",
       "2         68.832021            22.218482              50.092194     46.613539   \n",
       "3         69.297008            24.652878              44.311238     44.644130   \n",
       "4         49.712859             9.652075              28.317406     40.060784   \n",
       "\n",
       "   pelvic_radius  degree_spondylolisthesis     class  \n",
       "0      98.672917                 -0.254400  Abnormal  \n",
       "1     114.405425                  4.564259  Abnormal  \n",
       "2     105.985135                 -3.530317  Abnormal  \n",
       "3     101.868495                 11.211523  Abnormal  \n",
       "4     108.168725                  7.918501  Abnormal  "
      ]
     },
     "execution_count": 4,
     "metadata": {},
     "output_type": "execute_result"
    }
   ],
   "source": [
    "data.head()\n"
   ]
  },
  {
   "cell_type": "code",
   "execution_count": 5,
   "metadata": {},
   "outputs": [
    {
     "data": {
      "text/html": [
       "<div>\n",
       "<style scoped>\n",
       "    .dataframe tbody tr th:only-of-type {\n",
       "        vertical-align: middle;\n",
       "    }\n",
       "\n",
       "    .dataframe tbody tr th {\n",
       "        vertical-align: top;\n",
       "    }\n",
       "\n",
       "    .dataframe thead th {\n",
       "        text-align: right;\n",
       "    }\n",
       "</style>\n",
       "<table border=\"1\" class=\"dataframe\">\n",
       "  <thead>\n",
       "    <tr style=\"text-align: right;\">\n",
       "      <th></th>\n",
       "      <th>pelvic_incidence</th>\n",
       "      <th>pelvic_tilt numeric</th>\n",
       "      <th>lumbar_lordosis_angle</th>\n",
       "      <th>sacral_slope</th>\n",
       "      <th>pelvic_radius</th>\n",
       "      <th>degree_spondylolisthesis</th>\n",
       "    </tr>\n",
       "  </thead>\n",
       "  <tbody>\n",
       "    <tr>\n",
       "      <td>count</td>\n",
       "      <td>310.000000</td>\n",
       "      <td>310.000000</td>\n",
       "      <td>310.000000</td>\n",
       "      <td>310.000000</td>\n",
       "      <td>310.000000</td>\n",
       "      <td>310.000000</td>\n",
       "    </tr>\n",
       "    <tr>\n",
       "      <td>mean</td>\n",
       "      <td>60.496653</td>\n",
       "      <td>17.542822</td>\n",
       "      <td>51.930930</td>\n",
       "      <td>42.953831</td>\n",
       "      <td>117.920655</td>\n",
       "      <td>26.296694</td>\n",
       "    </tr>\n",
       "    <tr>\n",
       "      <td>std</td>\n",
       "      <td>17.236520</td>\n",
       "      <td>10.008330</td>\n",
       "      <td>18.554064</td>\n",
       "      <td>13.423102</td>\n",
       "      <td>13.317377</td>\n",
       "      <td>37.559027</td>\n",
       "    </tr>\n",
       "    <tr>\n",
       "      <td>min</td>\n",
       "      <td>26.147921</td>\n",
       "      <td>-6.554948</td>\n",
       "      <td>14.000000</td>\n",
       "      <td>13.366931</td>\n",
       "      <td>70.082575</td>\n",
       "      <td>-11.058179</td>\n",
       "    </tr>\n",
       "    <tr>\n",
       "      <td>25%</td>\n",
       "      <td>46.430294</td>\n",
       "      <td>10.667069</td>\n",
       "      <td>37.000000</td>\n",
       "      <td>33.347122</td>\n",
       "      <td>110.709196</td>\n",
       "      <td>1.603727</td>\n",
       "    </tr>\n",
       "    <tr>\n",
       "      <td>50%</td>\n",
       "      <td>58.691038</td>\n",
       "      <td>16.357689</td>\n",
       "      <td>49.562398</td>\n",
       "      <td>42.404912</td>\n",
       "      <td>118.268178</td>\n",
       "      <td>11.767934</td>\n",
       "    </tr>\n",
       "    <tr>\n",
       "      <td>75%</td>\n",
       "      <td>72.877696</td>\n",
       "      <td>22.120395</td>\n",
       "      <td>63.000000</td>\n",
       "      <td>52.695888</td>\n",
       "      <td>125.467674</td>\n",
       "      <td>41.287352</td>\n",
       "    </tr>\n",
       "    <tr>\n",
       "      <td>max</td>\n",
       "      <td>129.834041</td>\n",
       "      <td>49.431864</td>\n",
       "      <td>125.742385</td>\n",
       "      <td>121.429566</td>\n",
       "      <td>163.071041</td>\n",
       "      <td>418.543082</td>\n",
       "    </tr>\n",
       "  </tbody>\n",
       "</table>\n",
       "</div>"
      ],
      "text/plain": [
       "       pelvic_incidence  pelvic_tilt numeric  lumbar_lordosis_angle  \\\n",
       "count        310.000000           310.000000             310.000000   \n",
       "mean          60.496653            17.542822              51.930930   \n",
       "std           17.236520            10.008330              18.554064   \n",
       "min           26.147921            -6.554948              14.000000   \n",
       "25%           46.430294            10.667069              37.000000   \n",
       "50%           58.691038            16.357689              49.562398   \n",
       "75%           72.877696            22.120395              63.000000   \n",
       "max          129.834041            49.431864             125.742385   \n",
       "\n",
       "       sacral_slope  pelvic_radius  degree_spondylolisthesis  \n",
       "count    310.000000     310.000000                310.000000  \n",
       "mean      42.953831     117.920655                 26.296694  \n",
       "std       13.423102      13.317377                 37.559027  \n",
       "min       13.366931      70.082575                -11.058179  \n",
       "25%       33.347122     110.709196                  1.603727  \n",
       "50%       42.404912     118.268178                 11.767934  \n",
       "75%       52.695888     125.467674                 41.287352  \n",
       "max      121.429566     163.071041                418.543082  "
      ]
     },
     "execution_count": 5,
     "metadata": {},
     "output_type": "execute_result"
    }
   ],
   "source": [
    "data.describe()\n"
   ]
  },
  {
   "cell_type": "code",
   "execution_count": 6,
   "metadata": {},
   "outputs": [
    {
     "data": {
      "text/plain": [
       "Index(['pelvic_incidence', 'pelvic_tilt numeric', 'lumbar_lordosis_angle',\n",
       "       'sacral_slope', 'pelvic_radius', 'degree_spondylolisthesis'],\n",
       "      dtype='object')"
      ]
     },
     "execution_count": 6,
     "metadata": {},
     "output_type": "execute_result"
    }
   ],
   "source": [
    "col_num=data.columns[0:6]\n",
    "col_num"
   ]
  },
  {
   "cell_type": "code",
   "execution_count": 7,
   "metadata": {},
   "outputs": [],
   "source": [
    "#Scaling a data  while using KNN\n",
    "from sklearn.preprocessing import MinMaxScaler\n",
    "scaler = MinMaxScaler()\n",
    "data[col_num] = scaler.fit_transform(data[col_num])"
   ]
  },
  {
   "cell_type": "code",
   "execution_count": 8,
   "metadata": {},
   "outputs": [
    {
     "data": {
      "text/plain": [
       "(310, 7)"
      ]
     },
     "execution_count": 8,
     "metadata": {},
     "output_type": "execute_result"
    }
   ],
   "source": [
    "data.shape"
   ]
  },
  {
   "cell_type": "code",
   "execution_count": 9,
   "metadata": {},
   "outputs": [],
   "source": [
    "#Generating Random Training and Testing data \n",
    "\n",
    "#We have to convert our values to list form if we want to store train and test data into list\n",
    "dl=data.values.tolist()\n",
    "\n",
    "l=len(data)\n",
    "import random\n",
    "def train_test_split(data,split,train=[],test=[]): \n",
    "    #Storing data into list\n",
    "    for x in range(l):\n",
    "        if random.random()<split:\n",
    "            train.append(data[x])\n",
    "            \n",
    "        else:\n",
    "            test.append(data[x])\n",
    "    "
   ]
  },
  {
   "cell_type": "code",
   "execution_count": 10,
   "metadata": {},
   "outputs": [],
   "source": [
    "train=[]\n",
    "test=[]\n",
    "split=0.67\n",
    "train_test_split(dl,split,train,test)"
   ]
  },
  {
   "cell_type": "code",
   "execution_count": 11,
   "metadata": {},
   "outputs": [
    {
     "data": {
      "text/plain": [
       "(214, 96)"
      ]
     },
     "execution_count": 11,
     "metadata": {},
     "output_type": "execute_result"
    }
   ],
   "source": [
    "len(train),len(test)"
   ]
  },
  {
   "cell_type": "code",
   "execution_count": 12,
   "metadata": {},
   "outputs": [],
   "source": [
    "#Eucladian Distance\n",
    "import math\n",
    "def Euclideandist(x,xi, length):\n",
    "    d = 0.0\n",
    "    for i in range(length):\n",
    "        d += pow(float(x[i])- float(xi[i]),2)\n",
    "    return math.sqrt(d)"
   ]
  },
  {
   "cell_type": "code",
   "execution_count": 21,
   "metadata": {},
   "outputs": [],
   "source": [
    "#Select the k training cases that have the smallest distance and look at their classification. These are the k Nearest Neighbors\n",
    "import operator\n",
    "\n",
    "\n",
    "\n",
    "def getNeighbors(train, testInstance, k):\n",
    "    distances = []\n",
    "    length = len(testInstance)-1\n",
    "    for x in range(len(train)):\n",
    "        dist = Euclideandist(testInstance, train[x], length)\n",
    "        distances.append((train[x], dist))\n",
    "    distances.sort(key=operator.itemgetter(1))\n",
    "    neighbors = []\n",
    "    for x in range(k):\n",
    "        neighbors.append(distances[x][0])\n",
    "    return neighbors\n"
   ]
  },
  {
   "cell_type": "code",
   "execution_count": 22,
   "metadata": {},
   "outputs": [],
   "source": [
    "#After sorting the neighbours based on their respective classes, max voting to give the final class of the test instance\n",
    "import operator\n",
    "def getResponse(neighbors):\n",
    "    classVotes = {}\n",
    "    for x in range(len(neighbors)):\n",
    "        response = neighbors[x][-1]\n",
    "        if response in classVotes:\n",
    "            classVotes[response] += 1\n",
    "        else:\n",
    "            classVotes[response] = 1\n",
    "    sortedVotes = sorted(classVotes.items(), key=operator.itemgetter(1), reverse=True)#Sorting it based on votes\n",
    "    return sortedVotes[0][0]"
   ]
  },
  {
   "cell_type": "code",
   "execution_count": 37,
   "metadata": {},
   "outputs": [],
   "source": [
    "#Checking accuracy\n",
    "\n",
    "def getacc(test,predictions):\n",
    "    correct=0\n",
    "    for x in range(len(test)):\n",
    "        if test[x][-1]==predictions[x]:\n",
    "            correct+=1\n",
    "            \n",
    "    return (correct/float(len(test))) * 100\n",
    "    \n",
    "    "
   ]
  },
  {
   "cell_type": "code",
   "execution_count": 48,
   "metadata": {},
   "outputs": [
    {
     "name": "stdout",
     "output_type": "stream",
     "text": [
      "$$ predicted='Abnormal', actual='Abnormal'\n",
      "$$ predicted='Abnormal', actual='Abnormal'\n",
      "$$ predicted='Normal', actual='Abnormal'\n",
      "$$ predicted='Abnormal', actual='Abnormal'\n",
      "$$ predicted='Abnormal', actual='Abnormal'\n",
      "$$ predicted='Abnormal', actual='Abnormal'\n",
      "$$ predicted='Normal', actual='Abnormal'\n",
      "$$ predicted='Abnormal', actual='Abnormal'\n",
      "$$ predicted='Normal', actual='Abnormal'\n",
      "$$ predicted='Abnormal', actual='Abnormal'\n",
      "$$ predicted='Abnormal', actual='Abnormal'\n",
      "$$ predicted='Abnormal', actual='Abnormal'\n",
      "$$ predicted='Normal', actual='Abnormal'\n",
      "$$ predicted='Abnormal', actual='Abnormal'\n",
      "$$ predicted='Abnormal', actual='Abnormal'\n",
      "$$ predicted='Abnormal', actual='Abnormal'\n",
      "$$ predicted='Abnormal', actual='Abnormal'\n",
      "$$ predicted='Abnormal', actual='Abnormal'\n",
      "$$ predicted='Abnormal', actual='Abnormal'\n",
      "$$ predicted='Abnormal', actual='Abnormal'\n",
      "$$ predicted='Abnormal', actual='Abnormal'\n",
      "$$ predicted='Abnormal', actual='Abnormal'\n",
      "$$ predicted='Abnormal', actual='Abnormal'\n",
      "$$ predicted='Abnormal', actual='Abnormal'\n",
      "$$ predicted='Abnormal', actual='Abnormal'\n",
      "$$ predicted='Abnormal', actual='Abnormal'\n",
      "$$ predicted='Abnormal', actual='Abnormal'\n",
      "$$ predicted='Abnormal', actual='Abnormal'\n",
      "$$ predicted='Abnormal', actual='Abnormal'\n",
      "$$ predicted='Abnormal', actual='Abnormal'\n",
      "$$ predicted='Abnormal', actual='Abnormal'\n",
      "$$ predicted='Abnormal', actual='Abnormal'\n",
      "$$ predicted='Abnormal', actual='Abnormal'\n",
      "$$ predicted='Abnormal', actual='Abnormal'\n",
      "$$ predicted='Abnormal', actual='Abnormal'\n",
      "$$ predicted='Abnormal', actual='Abnormal'\n",
      "$$ predicted='Abnormal', actual='Abnormal'\n",
      "$$ predicted='Abnormal', actual='Abnormal'\n",
      "$$ predicted='Abnormal', actual='Abnormal'\n",
      "$$ predicted='Abnormal', actual='Abnormal'\n",
      "$$ predicted='Abnormal', actual='Abnormal'\n",
      "$$ predicted='Abnormal', actual='Abnormal'\n",
      "$$ predicted='Abnormal', actual='Abnormal'\n",
      "$$ predicted='Abnormal', actual='Abnormal'\n",
      "$$ predicted='Abnormal', actual='Abnormal'\n",
      "$$ predicted='Abnormal', actual='Abnormal'\n",
      "$$ predicted='Abnormal', actual='Abnormal'\n",
      "$$ predicted='Abnormal', actual='Abnormal'\n",
      "$$ predicted='Normal', actual='Abnormal'\n",
      "$$ predicted='Abnormal', actual='Abnormal'\n",
      "$$ predicted='Abnormal', actual='Abnormal'\n",
      "$$ predicted='Abnormal', actual='Abnormal'\n",
      "$$ predicted='Abnormal', actual='Abnormal'\n",
      "$$ predicted='Abnormal', actual='Abnormal'\n",
      "$$ predicted='Abnormal', actual='Abnormal'\n",
      "$$ predicted='Abnormal', actual='Abnormal'\n",
      "$$ predicted='Abnormal', actual='Abnormal'\n",
      "$$ predicted='Abnormal', actual='Abnormal'\n",
      "$$ predicted='Abnormal', actual='Abnormal'\n",
      "$$ predicted='Abnormal', actual='Abnormal'\n",
      "$$ predicted='Abnormal', actual='Abnormal'\n",
      "$$ predicted='Normal', actual='Normal'\n",
      "$$ predicted='Normal', actual='Normal'\n",
      "$$ predicted='Normal', actual='Normal'\n",
      "$$ predicted='Abnormal', actual='Normal'\n",
      "$$ predicted='Abnormal', actual='Normal'\n",
      "$$ predicted='Normal', actual='Normal'\n",
      "$$ predicted='Normal', actual='Normal'\n",
      "$$ predicted='Normal', actual='Normal'\n",
      "$$ predicted='Normal', actual='Normal'\n",
      "$$ predicted='Normal', actual='Normal'\n",
      "$$ predicted='Abnormal', actual='Normal'\n",
      "$$ predicted='Normal', actual='Normal'\n",
      "$$ predicted='Normal', actual='Normal'\n",
      "$$ predicted='Normal', actual='Normal'\n",
      "$$ predicted='Normal', actual='Normal'\n",
      "$$ predicted='Abnormal', actual='Normal'\n",
      "$$ predicted='Normal', actual='Normal'\n",
      "$$ predicted='Normal', actual='Normal'\n",
      "$$ predicted='Normal', actual='Normal'\n",
      "$$ predicted='Normal', actual='Normal'\n",
      "$$ predicted='Abnormal', actual='Normal'\n",
      "$$ predicted='Normal', actual='Normal'\n",
      "$$ predicted='Normal', actual='Normal'\n",
      "$$ predicted='Normal', actual='Normal'\n",
      "$$ predicted='Normal', actual='Normal'\n",
      "$$ predicted='Abnormal', actual='Normal'\n",
      "$$ predicted='Normal', actual='Normal'\n",
      "$$ predicted='Normal', actual='Normal'\n",
      "$$ predicted='Normal', actual='Normal'\n",
      "$$ predicted='Abnormal', actual='Normal'\n",
      "$$ predicted='Abnormal', actual='Normal'\n",
      "$$ predicted='Normal', actual='Normal'\n",
      "$$ predicted='Abnormal', actual='Normal'\n",
      "$$ predicted='Abnormal', actual='Normal'\n",
      "$$ predicted='Normal', actual='Normal'\n"
     ]
    }
   ],
   "source": [
    "# generate predictions\n",
    "predictions=[]\n",
    "k = 7\n",
    "for x in range(len(test)):\n",
    "    neighbors = getNeighbors(train, test[x], k)\n",
    "    result = getResponse(neighbors)\n",
    "    predictions.append(result)\n",
    "    print('$$ predicted=' + repr(result) + ', actual=' + repr(test[x][-1]))"
   ]
  },
  {
   "cell_type": "code",
   "execution_count": 47,
   "metadata": {},
   "outputs": [
    {
     "name": "stdout",
     "output_type": "stream",
     "text": [
      "Accuracy: '80.21'%\n"
     ]
    }
   ],
   "source": [
    "accuracy = getacc(test, predictions)\n",
    "print('Accuracy: ' + repr(\"%.2f\" % accuracy) + '%')"
   ]
  },
  {
   "cell_type": "code",
   "execution_count": 36,
   "metadata": {},
   "outputs": [
    {
     "data": {
      "text/plain": [
       "17.60681686165901"
      ]
     },
     "execution_count": 36,
     "metadata": {},
     "output_type": "execute_result"
    }
   ],
   "source": [
    "abc=np.sqrt(len(data))\n",
    "\n",
    "abc"
   ]
  },
  {
   "cell_type": "markdown",
   "metadata": {},
   "source": [
    "\n",
    "#  Got best accuracy at k=7.   \n",
    "    "
   ]
  }
 ],
 "metadata": {
  "kernelspec": {
   "display_name": "Python 3",
   "language": "python",
   "name": "python3"
  },
  "language_info": {
   "codemirror_mode": {
    "name": "ipython",
    "version": 3
   },
   "file_extension": ".py",
   "mimetype": "text/x-python",
   "name": "python",
   "nbconvert_exporter": "python",
   "pygments_lexer": "ipython3",
   "version": "3.7.4"
  }
 },
 "nbformat": 4,
 "nbformat_minor": 2
}
